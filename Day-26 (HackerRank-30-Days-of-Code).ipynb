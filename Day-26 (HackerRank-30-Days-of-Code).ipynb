{
 "cells": [
  {
   "cell_type": "code",
   "execution_count": null,
   "metadata": {},
   "outputs": [],
   "source": [
    "import sys\n",
    "inlist = sys.stdin.readlines()\n",
    "ad, am, ay = map(int, inlist[0].strip().split())\n",
    "ed, em, ey = map(int, inlist[1].strip().split())\n",
    "\n",
    "if ay > ey: \n",
    "    print(10000)\n",
    "elif ay == ey and am > em: \n",
    "    print((am-em)*500)\n",
    "elif ay == ey and am == em and ad > ed: \n",
    "    print((ad-ed)*15)\n",
    "else: print(0)\n",
    "    "
   ]
  }
 ],
 "metadata": {
  "kernelspec": {
   "display_name": "Python 3",
   "language": "python",
   "name": "python3"
  },
  "language_info": {
   "codemirror_mode": {
    "name": "ipython",
    "version": 3
   },
   "file_extension": ".py",
   "mimetype": "text/x-python",
   "name": "python",
   "nbconvert_exporter": "python",
   "pygments_lexer": "ipython3",
   "version": "3.6.8"
  }
 },
 "nbformat": 4,
 "nbformat_minor": 2
}
