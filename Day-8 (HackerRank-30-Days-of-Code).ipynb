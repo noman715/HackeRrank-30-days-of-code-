{
 "cells": [
  {
   "cell_type": "code",
   "execution_count": 13,
   "metadata": {},
   "outputs": [
    {
     "name": "stdin",
     "output_type": "stream",
     "text": [
      " 3\n",
      " sam 99912222\n",
      " tom 11122222\n",
      " harry 12299933\n",
      " sam\n"
     ]
    },
    {
     "name": "stdout",
     "output_type": "stream",
     "text": [
      "sam=99912222\n"
     ]
    },
    {
     "name": "stdin",
     "output_type": "stream",
     "text": [
      " edward\n"
     ]
    },
    {
     "name": "stdout",
     "output_type": "stream",
     "text": [
      "Not found\n"
     ]
    },
    {
     "name": "stdin",
     "output_type": "stream",
     "text": [
      " harry\n"
     ]
    },
    {
     "name": "stdout",
     "output_type": "stream",
     "text": [
      "harry=12299933\n"
     ]
    }
   ],
   "source": [
    "n = int(input())\n",
    "d = dict(input().split() for _ in range(n))\n",
    "for i in range(n):\n",
    "    x = input()\n",
    "    try:\n",
    "        print(x+'='+d[x])\n",
    "    except KeyError:\n",
    "        print('Not found')"
   ]
  },
  {
   "cell_type": "code",
   "execution_count": null,
   "metadata": {},
   "outputs": [],
   "source": []
  }
 ],
 "metadata": {
  "kernelspec": {
   "display_name": "Python 3",
   "language": "python",
   "name": "python3"
  },
  "language_info": {
   "codemirror_mode": {
    "name": "ipython",
    "version": 3
   },
   "file_extension": ".py",
   "mimetype": "text/x-python",
   "name": "python",
   "nbconvert_exporter": "python",
   "pygments_lexer": "ipython3",
   "version": "3.6.8"
  }
 },
 "nbformat": 4,
 "nbformat_minor": 2
}
