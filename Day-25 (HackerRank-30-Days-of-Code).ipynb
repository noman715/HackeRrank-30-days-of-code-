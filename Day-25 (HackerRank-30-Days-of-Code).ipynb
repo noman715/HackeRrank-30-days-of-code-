{
 "cells": [
  {
   "cell_type": "code",
   "execution_count": 2,
   "metadata": {},
   "outputs": [
    {
     "name": "stdin",
     "output_type": "stream",
     "text": [
      " 3\n",
      " 12\n"
     ]
    },
    {
     "name": "stdout",
     "output_type": "stream",
     "text": [
      "Not prime\n"
     ]
    },
    {
     "name": "stdin",
     "output_type": "stream",
     "text": [
      " 5\n"
     ]
    },
    {
     "name": "stdout",
     "output_type": "stream",
     "text": [
      "Prime\n"
     ]
    },
    {
     "name": "stdin",
     "output_type": "stream",
     "text": [
      " 7\n"
     ]
    },
    {
     "name": "stdout",
     "output_type": "stream",
     "text": [
      "Prime\n"
     ]
    }
   ],
   "source": [
    "import math\n",
    "\n",
    "def isPrime(n):\n",
    "\n",
    "    if n == 1 or 0:\n",
    "\n",
    "        return \"Not prime\"\n",
    "\n",
    "    for i in range(2,int(math.sqrt(n))+1):\n",
    "\n",
    "        if n % i == 0:\n",
    "\n",
    "            return \"Not prime\"\n",
    "\n",
    "            break\n",
    "\n",
    "    else:\n",
    "\n",
    "        return \"Prime\"\n",
    "\n",
    "n = int(input())\n",
    "\n",
    "for _ in range(n):\n",
    "\n",
    "    print(isPrime(int(input())))"
   ]
  },
  {
   "cell_type": "code",
   "execution_count": null,
   "metadata": {},
   "outputs": [],
   "source": []
  }
 ],
 "metadata": {
  "kernelspec": {
   "display_name": "Python 3",
   "language": "python",
   "name": "python3"
  },
  "language_info": {
   "codemirror_mode": {
    "name": "ipython",
    "version": 3
   },
   "file_extension": ".py",
   "mimetype": "text/x-python",
   "name": "python",
   "nbconvert_exporter": "python",
   "pygments_lexer": "ipython3",
   "version": "3.6.8"
  }
 },
 "nbformat": 4,
 "nbformat_minor": 2
}
