{
 "cells": [
  {
   "cell_type": "code",
   "execution_count": null,
   "metadata": {},
   "outputs": [],
   "source": [
    "# This problem not available in python..\n",
    "\n",
    "import java.util.*;\n",
    "\n",
    "class Printer <T> {\n",
    "public static <E> void printArray(E[] generic){\n",
    "    for(E element : generic) {\n",
    "        System.out.println(element); \n",
    "    }\n",
    "}\n",
    "    /**\n",
    "    *    Method Name: printArray\n",
    "    *    Print each element of the generic array on a new line. Do not return anything.\n",
    "    *    @param A generic array\n",
    "    **/\n",
    "    \n",
    "    // Write your code here\n",
    "\n",
    "}\n",
    "\n",
    "public class Generics {\n",
    "    \n",
    "    public static void main(String args[]){\n",
    "        Scanner scanner = new Scanner(System.in);\n",
    "        int n = scanner.nextInt();\n",
    "        Integer[] intArray = new Integer[n];\n",
    "        for (int i = 0; i < n; i++) {\n",
    "            intArray[i] = scanner.nextInt();\n",
    "        }\n",
    "\n",
    "        n = scanner.nextInt();\n",
    "        String[] stringArray = new String[n];\n",
    "        for (int i = 0; i < n; i++) {\n",
    "            stringArray[i] = scanner.next();\n",
    "        }\n",
    "        \n",
    "        Printer<Integer> intPrinter = new Printer<Integer>();\n",
    "        Printer<String> stringPrinter = new Printer<String>();\n",
    "        intPrinter.printArray( intArray  );\n",
    "        stringPrinter.printArray( stringArray );\n",
    "        if(Printer.class.getDeclaredMethods().length > 1){\n",
    "            System.out.println(\"The Printer class should only have 1 method named printArray.\");\n",
    "        }\n",
    "    } \n",
    "}"
   ]
  }
 ],
 "metadata": {
  "kernelspec": {
   "display_name": "Python 3",
   "language": "python",
   "name": "python3"
  },
  "language_info": {
   "codemirror_mode": {
    "name": "ipython",
    "version": 3
   },
   "file_extension": ".py",
   "mimetype": "text/x-python",
   "name": "python",
   "nbconvert_exporter": "python",
   "pygments_lexer": "ipython3",
   "version": "3.6.8"
  }
 },
 "nbformat": 4,
 "nbformat_minor": 2
}
